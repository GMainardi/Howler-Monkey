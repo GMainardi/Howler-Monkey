{
 "cells": [
  {
   "cell_type": "code",
   "execution_count": 1,
   "metadata": {},
   "outputs": [
    {
     "data": {
      "text/plain": [
       "'/workspaces/Howler-Monkey/research'"
      ]
     },
     "execution_count": 1,
     "metadata": {},
     "output_type": "execute_result"
    }
   ],
   "source": [
    "%pwd"
   ]
  },
  {
   "cell_type": "code",
   "execution_count": 2,
   "metadata": {},
   "outputs": [],
   "source": [
    "import os\n",
    "os.chdir(\"../\")"
   ]
  },
  {
   "cell_type": "code",
   "execution_count": 13,
   "metadata": {},
   "outputs": [],
   "source": [
    "from dataclasses import dataclass\n",
    "from pathlib import Path\n",
    "\n",
    "@dataclass(frozen=True)\n",
    "class DataIngestionConfig:\n",
    "    root_dir: Path\n",
    "    data_id: str\n",
    "    local_data_file: Path\n",
    "    unzip_dir: Path"
   ]
  },
  {
   "cell_type": "code",
   "execution_count": 14,
   "metadata": {},
   "outputs": [],
   "source": [
    "from HowlerMonkey.constants import *\n",
    "from HowlerMonkey.utils.common import read_yaml, create_directories"
   ]
  },
  {
   "cell_type": "code",
   "execution_count": 19,
   "metadata": {},
   "outputs": [],
   "source": [
    "class ConfigurationManager:\n",
    "    def __init__(\n",
    "        self,\n",
    "        config_filepath = CONFIG_FILE_PATH,\n",
    "        params_filepath = PARAMS_FILE_PATH\n",
    "    ):\n",
    "        self.config = read_yaml(config_filepath)\n",
    "        self.params = read_yaml(params_filepath)\n",
    "\n",
    "        create_directories([self.config.artifacts_root])\n",
    "\n",
    "    def get_train_data_ingestion_config(self) -> DataIngestionConfig:\n",
    "        config = self.config.data_ingestion\n",
    "        create_directories([config.root_dir])\n",
    "        data_ingestion_config = DataIngestionConfig(\n",
    "            root_dir        = config.root_dir,\n",
    "            data_id         = config.train_data_id,\n",
    "            local_data_file = config.local_train_data_file,\n",
    "            unzip_dir       = config.unzip_train_dir\n",
    "        )\n",
    "\n",
    "        return data_ingestion_config\n",
    "\n",
    "\n",
    "    def get_val_data_ingestion_config(self) -> DataIngestionConfig:\n",
    "        config = self.config.data_ingestion\n",
    "        create_directories([config.root_dir])\n",
    "        data_ingestion_config = DataIngestionConfig(\n",
    "            root_dir        = config.root_dir,\n",
    "            data_id         = config.val_data_id,\n",
    "            local_data_file = config.local_val_data_file,\n",
    "            unzip_dir       = config.unzip_val_dir\n",
    "        )\n",
    "\n",
    "        return data_ingestion_config"
   ]
  },
  {
   "cell_type": "code",
   "execution_count": 27,
   "metadata": {},
   "outputs": [],
   "source": [
    "import os\n",
    "import zipfile\n",
    "import shutil\n",
    "import gdown\n",
    "from HowlerMonkey import logger\n",
    "from HowlerMonkey.utils.common import get_size"
   ]
  },
  {
   "cell_type": "code",
   "execution_count": 44,
   "metadata": {},
   "outputs": [],
   "source": [
    "class DataIngestion:\n",
    "    def __init__(self, config: DataIngestionConfig):\n",
    "        self.config = config\n",
    "\n",
    "    \n",
    "    def download_file(self)-> str:\n",
    "        '''\n",
    "        Fetch data from the url\n",
    "        '''\n",
    "\n",
    "        try: \n",
    "            dataset_id = self.config.data_id\n",
    "            zip_download_dir = self.config.local_data_file\n",
    "            os.makedirs(self.config.root_dir, exist_ok=True)\n",
    "            logger.info(f\"Downloading data with id {dataset_id} into file {zip_download_dir}\")\n",
    "\n",
    "            prefix = 'https://drive.google.com/uc?/export=download&id='\n",
    "            gdown.download(\n",
    "                prefix+dataset_id,\n",
    "                zip_download_dir\n",
    "            )\n",
    "\n",
    "            logger.info(f\"Downloaded data with id {dataset_id} into file {zip_download_dir}\")\n",
    "\n",
    "        except Exception as e:\n",
    "            raise e\n",
    "        \n",
    "    \n",
    "\n",
    "    def extract_zip_file(self):\n",
    "        unzip_path = self.config.unzip_dir\n",
    "        os.makedirs(unzip_path, exist_ok=True)\n",
    "        os.makedirs(os.path.join(unzip_path, 'images'), exist_ok=True)\n",
    "        os.makedirs(os.path.join(unzip_path, 'labels'), exist_ok=True)\n",
    "        \n",
    "\n",
    "        with zipfile.ZipFile(self.config.local_data_file) as zip_file:\n",
    "            for member in zip_file.namelist():\n",
    "                filename = os.path.basename(member)\n",
    "                # skip directories\n",
    "                if not filename:\n",
    "                    continue\n",
    "            \n",
    "                # copy file (taken from zipfile's extract)\n",
    "                source = zip_file.open(member)\n",
    "                if filename.endswith('.png') or filename.endswith('.jpg'):\n",
    "                    target = open(os.path.join(unzip_path, 'images', filename), \"wb\")\n",
    "                elif filename.endswith('.txt'):\n",
    "                    target = open(os.path.join(unzip_path, 'labels', filename), \"wb\")\n",
    "                else:\n",
    "                    continue\n",
    "                \n",
    "                with source, target:\n",
    "                    shutil.copyfileobj(source, target)"
   ]
  },
  {
   "cell_type": "code",
   "execution_count": 45,
   "metadata": {},
   "outputs": [
    {
     "name": "stdout",
     "output_type": "stream",
     "text": [
      "[2024-06-14 13:41:47,017: INFO: common] yaml file: config/config.yaml loaded successfully\n",
      "[2024-06-14 13:41:47,020: INFO: common] yaml file: params.yaml loaded successfully\n",
      "[2024-06-14 13:41:47,021: INFO: common] Creating directory: artifacts\n",
      "[2024-06-14 13:41:47,022: INFO: common] Creating directory: artifacts/data_ingestion\n",
      "[2024-06-14 13:41:47,023: INFO: 1397511870] Downloading data with id 1JqD4SRcFq1Fuj0wPTvLd-mfWMlQlxR7T into file artifacts/data_ingestion/train.zip\n"
     ]
    },
    {
     "name": "stderr",
     "output_type": "stream",
     "text": [
      "Downloading...\n",
      "From (original): https://drive.google.com/uc?/export=download&id=1JqD4SRcFq1Fuj0wPTvLd-mfWMlQlxR7T\n",
      "From (redirected): https://drive.google.com/uc?/export=download&id=1JqD4SRcFq1Fuj0wPTvLd-mfWMlQlxR7T&confirm=t&uuid=a1257a32-d79c-4c0e-8f52-52aed40af5c5\n",
      "To: /workspaces/Howler-Monkey/artifacts/data_ingestion/train.zip\n",
      "100%|██████████| 653M/653M [00:18<00:00, 36.0MB/s] "
     ]
    },
    {
     "name": "stdout",
     "output_type": "stream",
     "text": [
      "[2024-06-14 13:42:06,408: INFO: 1397511870] Downloaded data with id 1JqD4SRcFq1Fuj0wPTvLd-mfWMlQlxR7T into file artifacts/data_ingestion/train.zip\n"
     ]
    },
    {
     "name": "stderr",
     "output_type": "stream",
     "text": [
      "\n"
     ]
    },
    {
     "name": "stdout",
     "output_type": "stream",
     "text": [
      "[2024-06-14 13:42:13,041: INFO: common] Creating directory: artifacts/data_ingestion\n",
      "[2024-06-14 13:42:13,042: INFO: 1397511870] Downloading data with id 18l6fmuuQKKtLKULw2UF2vVqiQzFRe5g9 into file artifacts/data_ingestion/val.zip\n"
     ]
    },
    {
     "name": "stderr",
     "output_type": "stream",
     "text": [
      "Downloading...\n",
      "From (original): https://drive.google.com/uc?/export=download&id=18l6fmuuQKKtLKULw2UF2vVqiQzFRe5g9\n",
      "From (redirected): https://drive.google.com/uc?/export=download&id=18l6fmuuQKKtLKULw2UF2vVqiQzFRe5g9&confirm=t&uuid=1845c552-c91c-4c3d-a88c-a22e60e4a582\n",
      "To: /workspaces/Howler-Monkey/artifacts/data_ingestion/val.zip\n",
      "100%|██████████| 128M/128M [00:04<00:00, 30.7MB/s] "
     ]
    },
    {
     "name": "stdout",
     "output_type": "stream",
     "text": [
      "[2024-06-14 13:42:18,406: INFO: 1397511870] Downloaded data with id 18l6fmuuQKKtLKULw2UF2vVqiQzFRe5g9 into file artifacts/data_ingestion/val.zip\n"
     ]
    },
    {
     "name": "stderr",
     "output_type": "stream",
     "text": [
      "\n"
     ]
    }
   ],
   "source": [
    "try: \n",
    "    config = ConfigurationManager()\n",
    "    \n",
    "    train_data_ingestion_config = config.get_train_data_ingestion_config()\n",
    "    traning_data_ingestion = DataIngestion(train_data_ingestion_config)\n",
    "    traning_data_ingestion.download_file()\n",
    "    traning_data_ingestion.extract_zip_file()\n",
    "\n",
    "    val_data_ingestion_config = config.get_val_data_ingestion_config()\n",
    "    val_data_ingestion = DataIngestion(val_data_ingestion_config)\n",
    "    val_data_ingestion.download_file()\n",
    "    val_data_ingestion.extract_zip_file()\n",
    "\n",
    "except Exception as e:\n",
    "    raise e"
   ]
  },
  {
   "cell_type": "code",
   "execution_count": null,
   "metadata": {},
   "outputs": [],
   "source": []
  }
 ],
 "metadata": {
  "kernelspec": {
   "display_name": ".venv",
   "language": "python",
   "name": "python3"
  },
  "language_info": {
   "codemirror_mode": {
    "name": "ipython",
    "version": 3
   },
   "file_extension": ".py",
   "mimetype": "text/x-python",
   "name": "python",
   "nbconvert_exporter": "python",
   "pygments_lexer": "ipython3",
   "version": "3.11.9"
  }
 },
 "nbformat": 4,
 "nbformat_minor": 2
}
