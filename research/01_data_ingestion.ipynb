{
 "cells": [
  {
   "cell_type": "code",
   "execution_count": 25,
   "metadata": {},
   "outputs": [
    {
     "data": {
      "text/plain": [
       "'/workspaces/Howler-Monkey'"
      ]
     },
     "execution_count": 25,
     "metadata": {},
     "output_type": "execute_result"
    }
   ],
   "source": [
    "%pwd"
   ]
  },
  {
   "cell_type": "code",
   "execution_count": 26,
   "metadata": {},
   "outputs": [],
   "source": [
    "import os\n",
    "os.chdir(\"/workspaces/Howler-Monkey/\")"
   ]
  },
  {
   "cell_type": "code",
   "execution_count": 27,
   "metadata": {},
   "outputs": [],
   "source": [
    "from dataclasses import dataclass\n",
    "from pathlib import Path\n",
    "\n",
    "@dataclass(frozen=True)\n",
    "class DataIngestionConfig:\n",
    "    root_dir: Path\n",
    "    data_id: str\n",
    "    data_porcentage: int\n",
    "    local_data_file: Path\n",
    "    unzip_dir: Path"
   ]
  },
  {
   "cell_type": "code",
   "execution_count": 28,
   "metadata": {},
   "outputs": [],
   "source": [
    "from HowlerMonkey.constants import *\n",
    "from HowlerMonkey.utils.common import read_yaml, create_directories"
   ]
  },
  {
   "cell_type": "code",
   "execution_count": 29,
   "metadata": {},
   "outputs": [],
   "source": [
    "class ConfigurationManager:\n",
    "    def __init__(\n",
    "        self,\n",
    "        config_filepath = CONFIG_FILE_PATH,\n",
    "        params_filepath = PARAMS_FILE_PATH\n",
    "    ):\n",
    "        self.config = read_yaml(config_filepath)\n",
    "        self.params = read_yaml(params_filepath)\n",
    "\n",
    "        create_directories([self.config.artifacts_root])\n",
    "\n",
    "    def get_train1_data_ingestion_config(self) -> DataIngestionConfig:\n",
    "        config = self.config.data_ingestion\n",
    "        create_directories([config.root_dir])\n",
    "        data_ingestion_config = DataIngestionConfig(\n",
    "            root_dir        = Path(config.root_dir),\n",
    "            data_id         = config.train_data_id_1,\n",
    "            data_porcentage = int(config.porcent_data_1),\n",
    "            local_data_file = Path(config.local_train_data_file),\n",
    "            unzip_dir       = Path(config.unzip_train_dir)\n",
    "        )\n",
    "\n",
    "        return data_ingestion_config\n",
    "    \n",
    "    def get_train2_data_ingestion_config(self) -> DataIngestionConfig:\n",
    "        config = self.config.data_ingestion\n",
    "        create_directories([config.root_dir])\n",
    "        data_ingestion_config = DataIngestionConfig(\n",
    "            root_dir        = Path(config.root_dir),\n",
    "            data_id         = config.train_data_id_2,\n",
    "            data_porcentage = int(config.porcent_data_2),\n",
    "            local_data_file = Path(config.local_train_data_file),\n",
    "            unzip_dir       = Path(config.unzip_train_dir)\n",
    "        )\n",
    "\n",
    "        return data_ingestion_config\n",
    "    \n",
    "    def get_val_data_ingestion_config(self) -> DataIngestionConfig:\n",
    "        config = self.config.data_ingestion\n",
    "        create_directories([config.root_dir])\n",
    "        data_ingestion_config = DataIngestionConfig(\n",
    "            root_dir        = Path(config.root_dir),\n",
    "            data_id         = config.val_data_id,\n",
    "            data_porcentage = 100,\n",
    "            local_data_file = Path(config.local_val_data_file),\n",
    "            unzip_dir       = Path(config.unzip_val_dir)\n",
    "        )\n",
    "\n",
    "        return data_ingestion_config"
   ]
  },
  {
   "cell_type": "code",
   "execution_count": 30,
   "metadata": {},
   "outputs": [],
   "source": [
    "import os\n",
    "import zipfile\n",
    "import shutil\n",
    "import gdown\n",
    "import random\n",
    "from HowlerMonkey import logger\n",
    "from HowlerMonkey.utils.common import get_size"
   ]
  },
  {
   "cell_type": "code",
   "execution_count": 31,
   "metadata": {},
   "outputs": [],
   "source": [
    "class DataIngestion:\n",
    "    def __init__(self, config: DataIngestionConfig):\n",
    "        self.config = config\n",
    "\n",
    "    \n",
    "    def download_file(self)-> str:\n",
    "        '''\n",
    "        Fetch data from the url\n",
    "        '''\n",
    "\n",
    "        try: \n",
    "            dataset_id = self.config.data_id\n",
    "            zip_download_dir = self.config.local_data_file\n",
    "            os.makedirs(self.config.root_dir, exist_ok=True)\n",
    "            logger.info(f\"Downloading data with id {dataset_id} into file {zip_download_dir}\")\n",
    "\n",
    "            prefix = 'https://drive.google.com/uc?/export=download&id='\n",
    "            gdown.download(\n",
    "                prefix+dataset_id,\n",
    "                str(zip_download_dir)\n",
    "            )\n",
    "\n",
    "            logger.info(f\"Downloaded data with id {dataset_id} into file {zip_download_dir}\")\n",
    "\n",
    "        except Exception as e:\n",
    "            raise e\n",
    "        \n",
    "    \n",
    "\n",
    "    def extract_zip_file(self):\n",
    "        unzip_path = self.config.unzip_dir\n",
    "\n",
    "        os.makedirs(unzip_path, exist_ok=True)\n",
    "        os.makedirs(os.path.join(unzip_path, 'images'), exist_ok=True)\n",
    "        os.makedirs(os.path.join(unzip_path, 'labels'), exist_ok=True)\n",
    "        \n",
    "\n",
    "        logger.info(f\"Extracting data from {self.config.local_data_file} into {unzip_path}\")\n",
    "        with zipfile.ZipFile(self.config.local_data_file) as zip_file:\n",
    "\n",
    "            all_images = [file_path for file_path in zip_file.namelist() if file_path.endswith('.png') or file_path.endswith('.jpg')]\n",
    "\n",
    "            logger.info(f\"Filtering {self.config.data_porcentage}% of {len(all_images)} samples\")\n",
    "\n",
    "            num_images = len(all_images)*(self.config.data_porcentage/100)\n",
    "            filtered_images = random.sample(all_images, int(num_images))\n",
    "            \n",
    "            logger.info(f\"Extracting {len(filtered_images)} samples\")\n",
    "            for image in filtered_images:\n",
    "\n",
    "                image_name = os.path.basename(image)\n",
    "                label_name = image_name.replace('.png', '.txt').replace('.jpg', '.txt')\n",
    "\n",
    "                image_source = zip_file.open(image)\n",
    "                label_source = zip_file.open(image.replace('images', 'labels').replace(image_name, label_name))\n",
    "\n",
    "                image_target = open(os.path.join(unzip_path, 'images', image_name), \"wb\")\n",
    "                label_target = open(os.path.join(unzip_path, 'labels', label_name), \"wb\")\n",
    "                \n",
    "                with image_source, image_target:\n",
    "                    shutil.copyfileobj(image_source, image_target)\n",
    "\n",
    "                with label_source, label_target:\n",
    "                    shutil.copyfileobj(label_source, label_target)\n",
    "\n",
    "            logger.info(f\"Extracted {len(all_images)} samples into {unzip_path}\")\n",
    "                "
   ]
  },
  {
   "cell_type": "code",
   "execution_count": 32,
   "metadata": {},
   "outputs": [
    {
     "name": "stdout",
     "output_type": "stream",
     "text": [
      "[2024-06-23 00:51:39,969: INFO: common] yaml file: config/config.yaml loaded successfully\n",
      "[2024-06-23 00:51:39,972: INFO: common] yaml file: params.yaml loaded successfully\n",
      "[2024-06-23 00:51:39,973: INFO: common] Creating directory: artifacts\n",
      "[2024-06-23 00:51:39,974: INFO: common] Creating directory: artifacts/data_ingestion\n",
      "[2024-06-23 00:51:39,975: INFO: 737725553] Downloading data with id 1RfwpW6tCbjgeQVXzXgvhZO2JThPKzdc8 into file artifacts/data_ingestion/train.zip\n"
     ]
    },
    {
     "name": "stderr",
     "output_type": "stream",
     "text": [
      "Downloading...\n",
      "From (original): https://drive.google.com/uc?/export=download&id=1RfwpW6tCbjgeQVXzXgvhZO2JThPKzdc8\n",
      "From (redirected): https://drive.google.com/uc?/export=download&id=1RfwpW6tCbjgeQVXzXgvhZO2JThPKzdc8&confirm=t&uuid=aa9bbe23-4a66-471d-875e-083ccebad5a2\n",
      "To: /workspaces/Howler-Monkey/artifacts/data_ingestion/train.zip\n",
      "100%|██████████| 128M/128M [00:05<00:00, 24.1MB/s] "
     ]
    },
    {
     "name": "stdout",
     "output_type": "stream",
     "text": [
      "[2024-06-23 00:51:46,609: INFO: 737725553] Downloaded data with id 1RfwpW6tCbjgeQVXzXgvhZO2JThPKzdc8 into file artifacts/data_ingestion/train.zip\n",
      "[2024-06-23 00:51:46,611: INFO: 737725553] Extracting data from artifacts/data_ingestion/train.zip into artifacts/data_ingestion/data/train\n",
      "[2024-06-23 00:51:46,635: INFO: 737725553] Filtering 50% of 1800 samples\n",
      "[2024-06-23 00:51:46,637: INFO: 737725553] Extracting 900 samples\n"
     ]
    },
    {
     "name": "stderr",
     "output_type": "stream",
     "text": [
      "\n"
     ]
    },
    {
     "name": "stdout",
     "output_type": "stream",
     "text": [
      "[2024-06-23 00:51:48,230: INFO: 737725553] Extracted 1800 samples into artifacts/data_ingestion/data/train\n",
      "[2024-06-23 00:51:48,231: INFO: common] Creating directory: artifacts/data_ingestion\n",
      "[2024-06-23 00:51:48,232: INFO: 737725553] Downloading data with id 16Hwu7e5p_N5KYZUW_Fdad60_jRAcyCMS into file artifacts/data_ingestion/train.zip\n"
     ]
    },
    {
     "name": "stderr",
     "output_type": "stream",
     "text": [
      "Downloading...\n",
      "From (original): https://drive.google.com/uc?/export=download&id=16Hwu7e5p_N5KYZUW_Fdad60_jRAcyCMS\n",
      "From (redirected): https://drive.google.com/uc?/export=download&id=16Hwu7e5p_N5KYZUW_Fdad60_jRAcyCMS&confirm=t&uuid=7e68d3c4-ff32-4dfe-9166-7bbd81fc46d3\n",
      "To: /workspaces/Howler-Monkey/artifacts/data_ingestion/train.zip\n",
      "100%|██████████| 59.6M/59.6M [00:02<00:00, 27.5MB/s]"
     ]
    },
    {
     "name": "stdout",
     "output_type": "stream",
     "text": [
      "[2024-06-23 00:51:51,727: INFO: 737725553] Downloaded data with id 16Hwu7e5p_N5KYZUW_Fdad60_jRAcyCMS into file artifacts/data_ingestion/train.zip\n",
      "[2024-06-23 00:51:51,729: INFO: 737725553] Extracting data from artifacts/data_ingestion/train.zip into artifacts/data_ingestion/data/train\n",
      "[2024-06-23 00:51:51,748: INFO: 737725553] Filtering 50% of 1800 samples\n",
      "[2024-06-23 00:51:51,749: INFO: 737725553] Extracting 900 samples\n"
     ]
    },
    {
     "name": "stderr",
     "output_type": "stream",
     "text": [
      "\n"
     ]
    },
    {
     "name": "stdout",
     "output_type": "stream",
     "text": [
      "[2024-06-23 00:51:52,826: INFO: 737725553] Extracted 1800 samples into artifacts/data_ingestion/data/train\n",
      "[2024-06-23 00:51:52,828: INFO: common] Creating directory: artifacts/data_ingestion\n",
      "[2024-06-23 00:51:52,829: INFO: 737725553] Downloading data with id 1x96HUNENYCfvyH7F4A2u5f8rZoEPEGfg into file artifacts/data_ingestion/val.zip\n"
     ]
    },
    {
     "name": "stderr",
     "output_type": "stream",
     "text": [
      "Downloading...\n",
      "From (original): https://drive.google.com/uc?/export=download&id=1x96HUNENYCfvyH7F4A2u5f8rZoEPEGfg\n",
      "From (redirected): https://drive.google.com/uc?/export=download&id=1x96HUNENYCfvyH7F4A2u5f8rZoEPEGfg&confirm=t&uuid=3228ae61-38b1-4d01-9098-954a5761dda4\n",
      "To: /workspaces/Howler-Monkey/artifacts/data_ingestion/val.zip\n",
      "100%|██████████| 653M/653M [00:20<00:00, 31.7MB/s] \n"
     ]
    },
    {
     "name": "stdout",
     "output_type": "stream",
     "text": [
      "[2024-06-23 00:52:14,782: INFO: 737725553] Downloaded data with id 1x96HUNENYCfvyH7F4A2u5f8rZoEPEGfg into file artifacts/data_ingestion/val.zip\n",
      "[2024-06-23 00:52:14,790: INFO: 737725553] Extracting data from artifacts/data_ingestion/val.zip into artifacts/data_ingestion/data/val\n",
      "[2024-06-23 00:52:14,823: INFO: 737725553] Filtering 100% of 1800 samples\n",
      "[2024-06-23 00:52:14,825: INFO: 737725553] Extracting 1800 samples\n",
      "[2024-06-23 00:52:22,650: INFO: 737725553] Extracted 1800 samples into artifacts/data_ingestion/data/val\n"
     ]
    }
   ],
   "source": [
    "try: \n",
    "\n",
    "    \n",
    "    config = ConfigurationManager()\n",
    "    \n",
    "    train_data1_ingestion_config = config.get_train1_data_ingestion_config()\n",
    "    traning_data_ingestion = DataIngestion(train_data1_ingestion_config)\n",
    "    traning_data_ingestion.download_file()\n",
    "    traning_data_ingestion.extract_zip_file()\n",
    "\n",
    "    train_data2_ingestion_config = config.get_train2_data_ingestion_config()\n",
    "    traning_data_ingestion = DataIngestion(train_data2_ingestion_config)\n",
    "    traning_data_ingestion.download_file()\n",
    "    traning_data_ingestion.extract_zip_file()\n",
    "\n",
    "    val_data_ingestion_config = config.get_val_data_ingestion_config()\n",
    "    val_data_ingestion = DataIngestion(val_data_ingestion_config)\n",
    "    val_data_ingestion.download_file()\n",
    "    val_data_ingestion.extract_zip_file()\n",
    "\n",
    "except Exception as e:\n",
    "    raise e"
   ]
  },
  {
   "cell_type": "code",
   "execution_count": null,
   "metadata": {},
   "outputs": [],
   "source": []
  }
 ],
 "metadata": {
  "kernelspec": {
   "display_name": ".venv",
   "language": "python",
   "name": "python3"
  },
  "language_info": {
   "codemirror_mode": {
    "name": "ipython",
    "version": 3
   },
   "file_extension": ".py",
   "mimetype": "text/x-python",
   "name": "python",
   "nbconvert_exporter": "python",
   "pygments_lexer": "ipython3",
   "version": "3.11.9"
  }
 },
 "nbformat": 4,
 "nbformat_minor": 2
}
