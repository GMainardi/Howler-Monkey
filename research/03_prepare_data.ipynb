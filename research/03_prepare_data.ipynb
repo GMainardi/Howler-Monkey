{
 "cells": [
  {
   "cell_type": "code",
   "execution_count": 1,
   "metadata": {},
   "outputs": [],
   "source": [
    "import os \n",
    "os.chdir('../')"
   ]
  },
  {
   "cell_type": "code",
   "execution_count": 2,
   "metadata": {},
   "outputs": [],
   "source": [
    "from dataclasses import dataclass\n",
    "from pathlib import Path\n",
    "\n",
    "\n",
    "@dataclass(frozen=True)\n",
    "class PrepareDataConfig:\n",
    "    root_dir: Path\n",
    "    raw_data_path: Path\n",
    "    prepared_data_path: Path\n",
    "    base_scaler_path: Path\n",
    "    feature_columns: list\n",
    "    target_column: str"
   ]
  },
  {
   "cell_type": "code",
   "execution_count": 3,
   "metadata": {},
   "outputs": [],
   "source": [
    "from src.MatchAnalysis.constants import *\n",
    "from src.MatchAnalysis.utils.common import read_yaml, create_directories"
   ]
  },
  {
   "cell_type": "code",
   "execution_count": 4,
   "metadata": {},
   "outputs": [],
   "source": [
    "class ConfigurationManager:\n",
    "    def __init__(\n",
    "        self,\n",
    "        config_filepath = CONFIG_FILE_PATH,\n",
    "        params_filepath = PARAMS_FILE_PATH\n",
    "    ):\n",
    "        self.config = read_yaml(config_filepath)\n",
    "        self.params = read_yaml(params_filepath)\n",
    "\n",
    "        create_directories([self.config.artifacts_root])\n",
    "\n",
    "    def get_prepare_data_config(self):\n",
    "\n",
    "        prepare_data = self.config.prepare_data\n",
    "        raw_data = self.config.data_ingestion.data_file\n",
    "\n",
    "        create_directories([\n",
    "            Path(prepare_data.root_dir)\n",
    "        ])\n",
    "\n",
    "        prepare_data_config = PrepareDataConfig(\n",
    "            root_dir = Path(prepare_data.root_dir),\n",
    "            raw_data_path = Path(raw_data),\n",
    "            prepared_data_path = Path(prepare_data.prepared_data_path),\n",
    "            base_scaler_path = Path(prepare_data.base_scaler_path),\n",
    "            feature_columns = prepare_data.feature_columns,\n",
    "            target_column = prepare_data.target_column\n",
    "            \n",
    "        )\n",
    "\n",
    "        return prepare_data_config"
   ]
  },
  {
   "cell_type": "code",
   "execution_count": 5,
   "metadata": {},
   "outputs": [],
   "source": [
    "import pandas as pd\n",
    "from sklearn.preprocessing import MinMaxScaler\n",
    "\n",
    "class PrepareData:\n",
    "    def __init__(self, config: PrepareDataConfig):\n",
    "        self.config = config\n",
    "\n",
    "    def _prepare_data(self):\n",
    "        \n",
    "        clean_data = self.data[\n",
    "            [*self.config.feature_columns, \n",
    "              self.config.target_column]\n",
    "        ]\n",
    "\n",
    "        self.scaler.fit(self.data[self.config.feature_columns])\n",
    "\n",
    "        clean_data[self.config.feature_columns] = self.scaler.transform(\n",
    "            clean_data[self.config.feature_columns]\n",
    "        )\n",
    "\n",
    "        return clean_data\n",
    "\n",
    "        \n",
    "    def get_data(self):\n",
    "        self.data = pd.read_csv(self.config.raw_data_path)\n",
    "    \n",
    "    def get_scaler(self):\n",
    "        self.scaler = MinMaxScaler()\n",
    "\n",
    "    def update_data(self):\n",
    "\n",
    "        self.normalized_data = self._prepare_data()\n",
    "\n",
    "        \n",
    "        self.save_data(\n",
    "            path=self.config.prepared_data_path,\n",
    "            data=self.normalized_data\n",
    "        )\n",
    "\n",
    "        self.save_scaler(\n",
    "            path=self.config.base_scaler_path,\n",
    "            scaler=self.scaler\n",
    "        )\n",
    "\n",
    "    @staticmethod\n",
    "    def save_data(path: Path, data):\n",
    "        data.to_csv(path, index=False)\n",
    "\n",
    "    @staticmethod\n",
    "    def save_scaler(path: Path, scaler: MinMaxScaler):\n",
    "        import joblib\n",
    "        joblib.dump(scaler, path)"
   ]
  },
  {
   "cell_type": "code",
   "execution_count": 6,
   "metadata": {},
   "outputs": [
    {
     "name": "stdout",
     "output_type": "stream",
     "text": [
      "[2024-02-05 10:39:46,849: INFO: common] yaml file: config/config.yaml loaded successfully\n",
      "[2024-02-05 10:39:46,850: INFO: common] yaml file: params.yaml loaded successfully\n",
      "[2024-02-05 10:39:46,851: INFO: common] Creating directory: artifacts\n",
      "[2024-02-05 10:39:46,852: INFO: common] Creating directory: artifacts/prepare_data\n"
     ]
    }
   ],
   "source": [
    "try:\n",
    "    config = ConfigurationManager()\n",
    "    prepare_data_config = config.get_prepare_data_config()\n",
    "    prepare_data = PrepareData(prepare_data_config)\n",
    "    prepare_data.get_data()\n",
    "    prepare_data.get_scaler()\n",
    "    prepare_data.update_data()\n",
    "except Exception as e:\n",
    "    raise e"
   ]
  },
  {
   "cell_type": "code",
   "execution_count": null,
   "metadata": {},
   "outputs": [],
   "source": []
  }
 ],
 "metadata": {
  "kernelspec": {
   "display_name": ".venv",
   "language": "python",
   "name": "python3"
  },
  "language_info": {
   "codemirror_mode": {
    "name": "ipython",
    "version": 3
   },
   "file_extension": ".py",
   "mimetype": "text/x-python",
   "name": "python",
   "nbconvert_exporter": "python",
   "pygments_lexer": "ipython3",
   "version": "3.9.6"
  }
 },
 "nbformat": 4,
 "nbformat_minor": 2
}
