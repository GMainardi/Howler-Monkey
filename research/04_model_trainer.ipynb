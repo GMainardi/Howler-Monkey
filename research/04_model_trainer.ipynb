{
 "cells": [
  {
   "cell_type": "code",
   "execution_count": 1,
   "metadata": {},
   "outputs": [],
   "source": [
    "import os\n",
    "os.chdir('../')"
   ]
  },
  {
   "cell_type": "code",
   "execution_count": 2,
   "metadata": {},
   "outputs": [],
   "source": [
    "from dataclasses import dataclass\n",
    "from pathlib import Path\n",
    "import pandas as pd\n",
    "\n",
    "@dataclass(frozen=True)\n",
    "class TrainingConfig:\n",
    "    root_dir: Path\n",
    "    trained_model_path: Path\n",
    "    updated_base_model_path: Path\n",
    "    training_data: Path\n",
    "    feature_columns: list\n",
    "    target_column: str\n",
    "    n_jobs: int\n",
    "    random_state: int"
   ]
  },
  {
   "cell_type": "code",
   "execution_count": 3,
   "metadata": {},
   "outputs": [],
   "source": [
    "from src.MatchAnalysis.constants import *\n",
    "from src.MatchAnalysis.utils.common import read_yaml, create_directories"
   ]
  },
  {
   "cell_type": "code",
   "execution_count": 4,
   "metadata": {},
   "outputs": [],
   "source": [
    "class ConfigurationManager:\n",
    "    def __init__(\n",
    "        self,\n",
    "        config_filepath = CONFIG_FILE_PATH,\n",
    "        params_filepath = PARAMS_FILE_PATH\n",
    "    ):\n",
    "        self.config = read_yaml(config_filepath)\n",
    "        self.params = read_yaml(params_filepath)\n",
    "\n",
    "        create_directories([self.config.artifacts_root])\n",
    "\n",
    "    def get_training_config(self):\n",
    "\n",
    "        training = self.config.training\n",
    "        prepare_base_model = self.config.prepare_base_model\n",
    "        training_data = self.config.prepare_data.prepared_data_path\n",
    "        create_directories([\n",
    "            Path(training.root_dir)\n",
    "        ])\n",
    "\n",
    "        training_config = TrainingConfig(\n",
    "            root_dir = Path(training.root_dir),\n",
    "            trained_model_path = Path(training.trained_model_path),\n",
    "            updated_base_model_path = Path(prepare_base_model.updated_base_model_path),\n",
    "            training_data = Path(training_data),\n",
    "            feature_columns = self.config.prepare_data.feature_columns,\n",
    "            target_column = self.config.prepare_data.target_column,\n",
    "            n_jobs = self.params.N_JOBS,\n",
    "            random_state = self.params.VAL_SPLIT_RANDOM_STATE\n",
    "        )\n",
    "        \n",
    "        return training_config"
   ]
  },
  {
   "cell_type": "code",
   "execution_count": 5,
   "metadata": {},
   "outputs": [],
   "source": [
    "import os\n",
    "import urllib.request as request\n",
    "from zipfile import ZipFile\n",
    "import sklearn\n",
    "import pickle\n",
    "import time\n",
    "\n",
    "from sklearn.model_selection import train_test_split"
   ]
  },
  {
   "cell_type": "code",
   "execution_count": 6,
   "metadata": {},
   "outputs": [],
   "source": [
    "class Training:\n",
    "    def __init__(self, config: TrainingConfig):\n",
    "        self.config = config\n",
    "\n",
    "    def get_base_model(self):\n",
    "        file = open(self.config.updated_base_model_path, 'rb')\n",
    "        self.model = pickle.load(\n",
    "            file\n",
    "        )\n",
    "\n",
    "    def get_data(self):\n",
    "        self.training_data = pd.read_csv(self.config.training_data)\n",
    "        \n",
    "    def train_valid_data_split(self):\n",
    "\n",
    "        self.X = self.training_data[self.config.feature_columns]\n",
    "        self.y = self.training_data[self.config.target_column]\n",
    "        \n",
    "        self.train_X, self.valid_X, self.train_y, self.valid_y = train_test_split(\n",
    "            self.X, self.y, test_size=0.2, random_state=self.config.random_state\n",
    "        )\n",
    "\n",
    "    def train(self):\n",
    "\n",
    "        self.model.fit(self.train_X, self.train_y)\n",
    "\n",
    "        self.save_model(\n",
    "            self.config.trained_model_path,\n",
    "            self.model\n",
    "        )\n",
    "\n",
    "    @staticmethod\n",
    "    def save_model(path: Path, model):\n",
    "        with open(path, 'wb') as f:\n",
    "            pickle.dump(model, f)"
   ]
  },
  {
   "cell_type": "code",
   "execution_count": 7,
   "metadata": {},
   "outputs": [
    {
     "name": "stdout",
     "output_type": "stream",
     "text": [
      "[2024-01-30 18:28:14,581: INFO: common] yaml file: config/config.yaml loaded successfully\n",
      "[2024-01-30 18:28:14,583: INFO: common] yaml file: params.yaml loaded successfully\n",
      "[2024-01-30 18:28:14,583: INFO: common] Creating directory: artifacts\n",
      "[2024-01-30 18:28:14,584: INFO: common] Creating directory: artifacts/training\n"
     ]
    }
   ],
   "source": [
    "try:\n",
    "    config = ConfigurationManager()\n",
    "    training_config = config.get_training_config()\n",
    "    training = Training(training_config)\n",
    "    training.get_base_model()\n",
    "    training.get_data()\n",
    "    training.train_valid_data_split()\n",
    "    training.train()\n",
    "except Exception as e:\n",
    "    raise e"
   ]
  },
  {
   "cell_type": "code",
   "execution_count": null,
   "metadata": {},
   "outputs": [],
   "source": []
  }
 ],
 "metadata": {
  "kernelspec": {
   "display_name": ".venv",
   "language": "python",
   "name": "python3"
  },
  "language_info": {
   "codemirror_mode": {
    "name": "ipython",
    "version": 3
   },
   "file_extension": ".py",
   "mimetype": "text/x-python",
   "name": "python",
   "nbconvert_exporter": "python",
   "pygments_lexer": "ipython3",
   "version": "3.9.6"
  }
 },
 "nbformat": 4,
 "nbformat_minor": 2
}
