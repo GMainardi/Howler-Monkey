{
 "cells": [
  {
   "cell_type": "code",
   "execution_count": 1,
   "metadata": {},
   "outputs": [],
   "source": [
    "import os\n",
    "os.chdir(\"/home/guidomainardi/Howler-cross\")"
   ]
  },
  {
   "cell_type": "code",
   "execution_count": 2,
   "metadata": {},
   "outputs": [],
   "source": [
    "from dataclasses import dataclass\n",
    "from pathlib import Path\n",
    "\n",
    "@dataclass(frozen=True)\n",
    "class DataSelectorConfig:\n",
    "    src_images_folder: Path\n",
    "    src_labels_folder: Path\n",
    "    dest_images_folder: Path\n",
    "    dest_labels_folder: Path\n",
    "    n_images: int"
   ]
  },
  {
   "cell_type": "code",
   "execution_count": 3,
   "metadata": {},
   "outputs": [],
   "source": [
    "from HowlerMonkey.constants import *\n",
    "from HowlerMonkey.utils.common import read_yaml, create_directories"
   ]
  },
  {
   "cell_type": "code",
   "execution_count": 8,
   "metadata": {},
   "outputs": [],
   "source": [
    "class ConfigurationManager:\n",
    "    \n",
    "    def __init__(\n",
    "        self,\n",
    "        config_filepath = CONFIG_FILE_PATH,\n",
    "        params_filepath = PARAMS_FILE_PATH\n",
    "    ):\n",
    "        self.config = read_yaml(config_filepath)\n",
    "        self.params = read_yaml(params_filepath)\n",
    "\n",
    "        create_directories([self.config.artifacts_root])\n",
    "\n",
    "\n",
    "    def get_data_selector_config(self) -> DataSelectorConfig:\n",
    "\n",
    "        config = self.config.data_selector\n",
    "        kfconfig = self.config.kfold\n",
    "        \n",
    "        data_ingestion_config = DataSelectorConfig(\n",
    "            src_images_folder= Path(kfconfig.images_path) / Path(config.src_folder_name),\n",
    "            src_labels_folder= Path(kfconfig.labels_path) / Path(config.src_folder_name),\n",
    "            dest_images_folder= Path(kfconfig.images_path) / Path(config.dest_folder_name),\n",
    "            dest_labels_folder= Path(kfconfig.labels_path) / Path(config.dest_folder_name),\n",
    "            n_images = int(config.n_images)\n",
    "        )\n",
    "        \n",
    "        \n",
    "        return data_ingestion_config"
   ]
  },
  {
   "cell_type": "code",
   "execution_count": 9,
   "metadata": {},
   "outputs": [],
   "source": [
    "import os\n",
    "import shutil\n",
    "\n",
    "from HowlerMonkey.utils.common import clear_and_create_folder\n",
    "from HowlerMonkey import logger"
   ]
  },
  {
   "cell_type": "code",
   "execution_count": 10,
   "metadata": {},
   "outputs": [],
   "source": [
    "class DataSelector:\n",
    "\n",
    "        def __init__(self, config: DataSelectorConfig) -> None:\n",
    "            self.config = config\n",
    "\n",
    "        def get_equally_spaced_images(self) -> None:\n",
    "            \n",
    "            image_files = sorted(os.listdir(self.config.src_images_folder))\n",
    "            label_files = sorted(os.listdir(self.config.src_labels_folder))\n",
    "            \n",
    "            \n",
    "            # Calculate the step to select N equally spaced images\n",
    "            step = max(1, len(image_files) // self.config.n_images)\n",
    "            \n",
    "            clear_and_create_folder(\n",
    "                self.config.dest_images_folder,\n",
    "                self.config.dest_labels_folder\n",
    "            )\n",
    "\n",
    "            selected_indices = range(0, len(image_files), step)\n",
    "            \n",
    "\n",
    "            for idx in selected_indices:\n",
    "                image_file = image_files[idx]\n",
    "                label_file = label_files[idx]\n",
    "                \n",
    "\n",
    "                shutil.copy(\n",
    "                    self.config.src_images_folder / image_file,\n",
    "                    self.config.dest_images_folder / image_file\n",
    "                )\n",
    "                \n",
    "                shutil.copy(\n",
    "                    self.config.src_labels_folder / label_file,\n",
    "                    self.config.dest_labels_folder / label_file\n",
    "                )\n",
    "\n",
    "            logger.info(f\"Selected {len(selected_indices)} images and labels.\")"
   ]
  },
  {
   "cell_type": "code",
   "execution_count": 11,
   "metadata": {},
   "outputs": [
    {
     "name": "stdout",
     "output_type": "stream",
     "text": [
      "[2024-09-03 11:45:39,279: INFO: common] yaml file: config/config.yaml loaded successfully\n",
      "[2024-09-03 11:45:39,282: INFO: common] yaml file: params.yaml loaded successfully\n",
      "[2024-09-03 11:45:39,283: INFO: common] Creating directory: artifacts\n",
      "[2024-09-03 11:45:39,331: INFO: common] Clearing main folder\n",
      "[2024-09-03 11:45:39,333: INFO: common] Creating main folder\n",
      "[2024-09-03 11:45:40,581: INFO: 3742319382] Selected 5009 images and labels.\n"
     ]
    }
   ],
   "source": [
    "try:\n",
    "    config = ConfigurationManager()\n",
    "    data_selector = DataSelector(config.get_data_selector_config())\n",
    "    data_selector.get_equally_spaced_images()\n",
    "except Exception as e:\n",
    "    raise e"
   ]
  },
  {
   "cell_type": "code",
   "execution_count": null,
   "metadata": {},
   "outputs": [],
   "source": []
  }
 ],
 "metadata": {
  "kernelspec": {
   "display_name": "base",
   "language": "python",
   "name": "python3"
  },
  "language_info": {
   "codemirror_mode": {
    "name": "ipython",
    "version": 3
   },
   "file_extension": ".py",
   "mimetype": "text/x-python",
   "name": "python",
   "nbconvert_exporter": "python",
   "pygments_lexer": "ipython3",
   "version": "3.10.12"
  }
 },
 "nbformat": 4,
 "nbformat_minor": 2
}
