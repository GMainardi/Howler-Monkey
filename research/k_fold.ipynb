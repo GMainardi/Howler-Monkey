{
 "cells": [
  {
   "cell_type": "code",
   "execution_count": 8,
   "metadata": {},
   "outputs": [],
   "source": [
    "import os\n",
    "os.chdir(\"/workspaces/Howler\")"
   ]
  },
  {
   "cell_type": "code",
   "execution_count": 9,
   "metadata": {},
   "outputs": [],
   "source": [
    "from dataclasses import dataclass\n",
    "from pathlib import Path\n",
    "\n",
    "@dataclass(frozen=True)\n",
    "class KFoldConfig:\n",
    "    root_dir: Path\n",
    "    seed: int\n",
    "    folds: int\n",
    "    fold_file: Path\n",
    "    images_path: Path\n"
   ]
  },
  {
   "cell_type": "code",
   "execution_count": 10,
   "metadata": {},
   "outputs": [],
   "source": [
    "from HowlerMonkey.constants import *\n",
    "from HowlerMonkey.utils.common import read_yaml, create_directories"
   ]
  },
  {
   "cell_type": "code",
   "execution_count": 11,
   "metadata": {},
   "outputs": [],
   "source": [
    "class ConfigurationManager:\n",
    "    \n",
    "    def __init__(\n",
    "        self,\n",
    "        config_filepath = CONFIG_FILE_PATH,\n",
    "        params_filepath = PARAMS_FILE_PATH\n",
    "    ):\n",
    "        self.config = read_yaml(config_filepath)\n",
    "        self.params = read_yaml(params_filepath)\n",
    "\n",
    "        create_directories([self.config.artifacts_root])\n",
    "\n",
    "\n",
    "    def get_kfold_config(self) -> KFoldConfig:\n",
    "\n",
    "        config = self.config.kfold\n",
    "\n",
    "        create_directories([config.root_dir])\n",
    "        \n",
    "        data_ingestion_config = KFoldConfig(\n",
    "            root_dir=Path(config.root_dir),\n",
    "            seed=config.seed,\n",
    "            folds=config.folds,\n",
    "            fold_file=Path(config.root_dir) / config.fold_file,\n",
    "            images_path=Path(config.images_path)\n",
    "        )\n",
    "        \n",
    "        \n",
    "        return data_ingestion_config"
   ]
  },
  {
   "cell_type": "code",
   "execution_count": 12,
   "metadata": {},
   "outputs": [],
   "source": [
    "import json\n",
    "import glob\n",
    "import numpy as np\n",
    "from sklearn.model_selection import KFold\n",
    "\n",
    "\n",
    "from HowlerMonkey import logger"
   ]
  },
  {
   "cell_type": "code",
   "execution_count": 13,
   "metadata": {},
   "outputs": [],
   "source": [
    "class KFoldCreator:\n",
    "\n",
    "    def __init__(self, config: KFoldConfig):\n",
    "        self.config = config\n",
    "\n",
    "    def create_folder(self):\n",
    "        logger.info(f\"Creating KFold folder at {self.config.root_dir}\")\n",
    "\n",
    "        self.kf = KFold(n_splits=self.config.folds, shuffle=True, random_state=self.config.seed)\n",
    "\n",
    "    def get_images_paths(self):\n",
    "        logger.info(f\"Getting images paths from {self.config.images_path}\")\n",
    "        self.images_paths = glob.glob(str(self.config.images_path/ 'main' / '*.jpg'))\n",
    "\n",
    "    def create_kfolds(self):\n",
    "        \n",
    "        self.folds_info = []\n",
    "\n",
    "        logger.info(f\"Creating {self.config.folds}\")\n",
    "\n",
    "        for fold, (train_idx, val_idx) in enumerate(self.kf.split(self.images_paths)):\n",
    "            \n",
    "            fold_data = {\n",
    "                'fold': fold,\n",
    "                'train_indices': train_idx.tolist(),\n",
    "                'val_indices': val_idx.tolist()\n",
    "            }\n",
    "            self.folds_info.append(fold_data)\n",
    "\n",
    "        logger.info(f\"KFold created\")\n",
    "        logger.info(f\"Saving KFold info at {self.config.fold_file}\")\n",
    "\n",
    "        with open(self.config.fold_file, 'w') as f:\n",
    "            json.dump(self.folds_info, f, indent=4)\n",
    "\n",
    "        logger.info(f\"KFold info saved\")\n",
    "\n",
    "            "
   ]
  },
  {
   "cell_type": "code",
   "execution_count": 14,
   "metadata": {},
   "outputs": [
    {
     "name": "stdout",
     "output_type": "stream",
     "text": [
      "[2024-08-29 21:17:03,484: INFO: common] yaml file: config/config.yaml loaded successfully\n",
      "[2024-08-29 21:17:03,487: INFO: common] yaml file: params.yaml loaded successfully\n",
      "[2024-08-29 21:17:03,488: INFO: common] Creating directory: artifacts\n",
      "[2024-08-29 21:17:03,489: INFO: common] Creating directory: artifacts/kfold\n",
      "[2024-08-29 21:17:03,490: INFO: 3840771769] Creating KFold folder at artifacts/kfold\n",
      "[2024-08-29 21:17:03,491: INFO: 3840771769] Getting images paths from datasets/images\n",
      "[2024-08-29 21:17:03,493: INFO: 3840771769] Creating 5\n",
      "[2024-08-29 21:17:03,498: INFO: 3840771769] KFold created\n",
      "[2024-08-29 21:17:03,499: INFO: 3840771769] Saving KFold info at artifacts/kfold/folds_info.json\n",
      "[2024-08-29 21:17:03,500: INFO: 3840771769] KFold info saved\n"
     ]
    }
   ],
   "source": [
    "try:\n",
    "    config = ConfigurationManager()\n",
    "    kfold_creator = KFoldCreator(config.get_kfold_config())\n",
    "    kfold_creator.create_folder()\n",
    "    kfold_creator.get_images_paths()\n",
    "    kfold_creator.create_kfolds()\n",
    "except Exception as e:\n",
    "    raise e"
   ]
  },
  {
   "cell_type": "code",
   "execution_count": null,
   "metadata": {},
   "outputs": [],
   "source": []
  },
  {
   "cell_type": "code",
   "execution_count": null,
   "metadata": {},
   "outputs": [],
   "source": []
  }
 ],
 "metadata": {
  "kernelspec": {
   "display_name": "base",
   "language": "python",
   "name": "python3"
  },
  "language_info": {
   "codemirror_mode": {
    "name": "ipython",
    "version": 3
   },
   "file_extension": ".py",
   "mimetype": "text/x-python",
   "name": "python",
   "nbconvert_exporter": "python",
   "pygments_lexer": "ipython3",
   "version": "3.10.12"
  }
 },
 "nbformat": 4,
 "nbformat_minor": 2
}
