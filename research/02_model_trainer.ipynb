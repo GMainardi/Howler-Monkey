{
 "cells": [
  {
   "cell_type": "code",
   "execution_count": 1,
   "metadata": {},
   "outputs": [],
   "source": [
    "import os\n",
    "os.chdir('../')"
   ]
  },
  {
   "cell_type": "code",
   "execution_count": 2,
   "metadata": {},
   "outputs": [],
   "source": [
    "from dataclasses import dataclass\n",
    "from pathlib import Path\n",
    "\n",
    "@dataclass(frozen=True)\n",
    "class TrainingConfig:\n",
    "    root_dir: Path\n",
    "    model_path: str\n",
    "    test_name: str\n",
    "    data_file_path: Path\n",
    "    params_epochs: int\n",
    "    params_batch_size: int\n"
   ]
  },
  {
   "cell_type": "code",
   "execution_count": 3,
   "metadata": {},
   "outputs": [],
   "source": [
    "from HowlerMonkey.constants import *\n",
    "from HowlerMonkey.utils.common import read_yaml, create_directories"
   ]
  },
  {
   "cell_type": "code",
   "execution_count": 4,
   "metadata": {},
   "outputs": [],
   "source": [
    "class ConfigurationManager:\n",
    "    def __init__(\n",
    "        self,\n",
    "        config_filepath = CONFIG_FILE_PATH,\n",
    "        params_filepath = PARAMS_FILE_PATH\n",
    "    ):\n",
    "        self.config = read_yaml(config_filepath)\n",
    "        self.params = read_yaml(params_filepath)\n",
    "\n",
    "        create_directories([self.config.artifacts_root])\n",
    "\n",
    "    def get_training_config(self):\n",
    "\n",
    "        training = self.config.training\n",
    "\n",
    "        create_directories([\n",
    "            Path(training.root_dir)\n",
    "        ])\n",
    "\n",
    "        training_config = TrainingConfig(\n",
    "            root_dir = Path(training.root_dir),\n",
    "            model_path = training.model_path,\n",
    "            data_file_path = Path(training.data_file_path),\n",
    "            params_epochs = self.params.EPOCHS,\n",
    "            params_batch_size = self.params.BATCH_SIZE,\n",
    "            params_image_size = self.params.IMSIZE,\n",
    "            test_name = self.params.TEST_NAME\n",
    "        )\n",
    "        \n",
    "        return training_config"
   ]
  },
  {
   "cell_type": "code",
   "execution_count": 5,
   "metadata": {},
   "outputs": [
    {
     "name": "stderr",
     "output_type": "stream",
     "text": [
      "/Users/guido/Library/CloudStorage/OneDrive-PUCRS-BR/Mestrado/Dissertacao/Howler-Monkey/.venv/lib/python3.9/site-packages/urllib3/__init__.py:35: NotOpenSSLWarning: urllib3 v2 only supports OpenSSL 1.1.1+, currently the 'ssl' module is compiled with 'LibreSSL 2.8.3'. See: https://github.com/urllib3/urllib3/issues/3020\n",
      "  warnings.warn(\n"
     ]
    }
   ],
   "source": [
    "import os\n",
    "import torch\n",
    "import shutil\n",
    "from ultralytics import YOLO\n",
    "\n",
    "\n",
    "from HowlerMonkey.utils.common import get_latest_model"
   ]
  },
  {
   "cell_type": "code",
   "execution_count": null,
   "metadata": {},
   "outputs": [],
   "source": []
  },
  {
   "cell_type": "code",
   "execution_count": null,
   "metadata": {},
   "outputs": [],
   "source": []
  },
  {
   "cell_type": "code",
   "execution_count": 8,
   "metadata": {},
   "outputs": [],
   "source": [
    "class Training:\n",
    "    def __init__(self, config: TrainingConfig):\n",
    "        self.config = config\n",
    "\n",
    "    \n",
    "    def get_model(self):\n",
    "        self.model = YOLO(self.config.model_path)\n",
    "\n",
    "    def save_model(self, path: Path):\n",
    "        best_model_path = get_latest_model(self.config.root_dir)\n",
    "        shutil.copy(best_model_path, path)\n",
    "\n",
    "    \n",
    "    def train(self):\n",
    "            \n",
    "        self.model.train(\n",
    "            data=self.config.data_file_path,\n",
    "            epochs=self.config.params_epochs,\n",
    "            batch=self.config.params_batch_size,\n",
    "            project=self.config.root_dir,\n",
    "            imgsz=self.config.params_image_size,\n",
    "            name=self.config.test_name\n",
    "        )\n",
    "\n",
    "        self.save_model(self.config.root_dir)\n"
   ]
  },
  {
   "cell_type": "code",
   "execution_count": 9,
   "metadata": {},
   "outputs": [
    {
     "name": "stdout",
     "output_type": "stream",
     "text": [
      "[2024-04-01 09:42:59,859: INFO: common] yaml file: config/config.yaml loaded successfully\n",
      "[2024-04-01 09:42:59,861: INFO: common] yaml file: params.yaml loaded successfully\n",
      "[2024-04-01 09:42:59,861: INFO: common] Creating directory: artifacts\n",
      "[2024-04-01 09:42:59,862: INFO: common] Creating directory: artifacts/training\n",
      "New https://pypi.org/project/ultralytics/8.1.40 available 😃 Update with 'pip install -U ultralytics'\n"
     ]
    },
    {
     "ename": "SyntaxError",
     "evalue": "'\u001b[31m\u001b[1mmlflow\u001b[0m' is not a valid YOLO argument. \n\n    Arguments received: ['yolo', '--f=/Users/guido/Library/Jupyter/runtime/kernel-v2-936l9OR16QFifKS.json']. Ultralytics 'yolo' commands use the following syntax:\n\n        yolo TASK MODE ARGS\n\n        Where   TASK (optional) is one of {'obb', 'pose', 'detect', 'classify', 'segment'}\n                MODE (required) is one of {'val', 'train', 'track', 'predict', 'benchmark', 'export'}\n                ARGS (optional) are any number of custom 'arg=value' pairs like 'imgsz=320' that override defaults.\n                    See all ARGS at https://docs.ultralytics.com/usage/cfg or with 'yolo cfg'\n\n    1. Train a detection model for 10 epochs with an initial learning_rate of 0.01\n        yolo train data=coco128.yaml model=yolov8n.pt epochs=10 lr0=0.01\n\n    2. Predict a YouTube video using a pretrained segmentation model at image size 320:\n        yolo predict model=yolov8n-seg.pt source='https://youtu.be/LNwODJXcvt4' imgsz=320\n\n    3. Val a pretrained detection model at batch-size 1 and image size 640:\n        yolo val model=yolov8n.pt data=coco128.yaml batch=1 imgsz=640\n\n    4. Export a YOLOv8n classification model to ONNX format at image size 224 by 128 (no TASK required)\n        yolo export model=yolov8n-cls.pt format=onnx imgsz=224,128\n\n    6. Explore your datasets using semantic search and SQL with a simple GUI powered by Ultralytics Explorer API\n        yolo explorer\n\n    5. Run special commands:\n        yolo help\n        yolo checks\n        yolo version\n        yolo settings\n        yolo copy-cfg\n        yolo cfg\n\n    Docs: https://docs.ultralytics.com\n    Community: https://community.ultralytics.com\n    GitHub: https://github.com/ultralytics/ultralytics\n     (<string>)",
     "output_type": "error",
     "traceback": [
      "Traceback \u001b[0;36m(most recent call last)\u001b[0m:\n",
      "\u001b[0m  File \u001b[1;32m~/Library/CloudStorage/OneDrive-PUCRS-BR/Mestrado/Dissertacao/Howler-Monkey/.venv/lib/python3.9/site-packages/IPython/core/interactiveshell.py:3550\u001b[0m in \u001b[1;35mrun_code\u001b[0m\n    exec(code_obj, self.user_global_ns, self.user_ns)\u001b[0m\n",
      "\u001b[0m  Cell \u001b[1;32mIn[9], line 8\u001b[0m\n    raise e\u001b[0m\n",
      "\u001b[0m  Cell \u001b[1;32mIn[9], line 6\u001b[0m\n    training.train()\u001b[0m\n",
      "\u001b[0m  Cell \u001b[1;32mIn[8], line 16\u001b[0m in \u001b[1;35mtrain\u001b[0m\n    self.model.train(\u001b[0m\n",
      "\u001b[0m  File \u001b[1;32m~/Library/CloudStorage/OneDrive-PUCRS-BR/Mestrado/Dissertacao/Howler-Monkey/.venv/lib/python3.9/site-packages/ultralytics/engine/model.py:638\u001b[0m in \u001b[1;35mtrain\u001b[0m\n    self.trainer = (trainer or self._smart_load(\"trainer\"))(overrides=args, _callbacks=self.callbacks)\u001b[0m\n",
      "\u001b[0m  File \u001b[1;32m~/Library/CloudStorage/OneDrive-PUCRS-BR/Mestrado/Dissertacao/Howler-Monkey/.venv/lib/python3.9/site-packages/ultralytics/engine/trainer.py:98\u001b[0m in \u001b[1;35m__init__\u001b[0m\n    self.args = get_cfg(cfg, overrides)\u001b[0m\n",
      "\u001b[0m  File \u001b[1;32m~/Library/CloudStorage/OneDrive-PUCRS-BR/Mestrado/Dissertacao/Howler-Monkey/.venv/lib/python3.9/site-packages/ultralytics/cfg/__init__.py:211\u001b[0m in \u001b[1;35mget_cfg\u001b[0m\n    check_dict_alignment(cfg, overrides)\u001b[0m\n",
      "\u001b[0;36m  File \u001b[0;32m~/Library/CloudStorage/OneDrive-PUCRS-BR/Mestrado/Dissertacao/Howler-Monkey/.venv/lib/python3.9/site-packages/ultralytics/cfg/__init__.py:322\u001b[0;36m in \u001b[0;35mcheck_dict_alignment\u001b[0;36m\n\u001b[0;31m    raise SyntaxError(string + CLI_HELP_MSG) from e\u001b[0;36m\n",
      "\u001b[0;36m  File \u001b[0;32m<string>\u001b[0;36m\u001b[0m\n\u001b[0;31mSyntaxError\u001b[0m\u001b[0;31m:\u001b[0m '\u001b[31m\u001b[1mmlflow\u001b[0m' is not a valid YOLO argument. \n\n    Arguments received: ['yolo', '--f=/Users/guido/Library/Jupyter/runtime/kernel-v2-936l9OR16QFifKS.json']. Ultralytics 'yolo' commands use the following syntax:\n\n        yolo TASK MODE ARGS\n\n        Where   TASK (optional) is one of {'obb', 'pose', 'detect', 'classify', 'segment'}\n                MODE (required) is one of {'val', 'train', 'track', 'predict', 'benchmark', 'export'}\n                ARGS (optional) are any number of custom 'arg=value' pairs like 'imgsz=320' that override defaults.\n                    See all ARGS at https://docs.ultralytics.com/usage/cfg or with 'yolo cfg'\n\n    1. Train a detection model for 10 epochs with an initial learning_rate of 0.01\n        yolo train data=coco128.yaml model=yolov8n.pt epochs=10 lr0=0.01\n\n    2. Predict a YouTube video using a pretrained segmentation model at image size 320:\n        yolo predict model=yolov8n-seg.pt source='https://youtu.be/LNwODJXcvt4' imgsz=320\n\n    3. Val a pretrained detection model at batch-size 1 and image size 640:\n        yolo val model=yolov8n.pt data=coco128.yaml batch=1 imgsz=640\n\n    4. Export a YOLOv8n classification model to ONNX format at image size 224 by 128 (no TASK required)\n        yolo export model=yolov8n-cls.pt format=onnx imgsz=224,128\n\n    6. Explore your datasets using semantic search and SQL with a simple GUI powered by Ultralytics Explorer API\n        yolo explorer\n\n    5. Run special commands:\n        yolo help\n        yolo checks\n        yolo version\n        yolo settings\n        yolo copy-cfg\n        yolo cfg\n\n    Docs: https://docs.ultralytics.com\n    Community: https://community.ultralytics.com\n    GitHub: https://github.com/ultralytics/ultralytics\n    \n"
     ]
    }
   ],
   "source": [
    "try:\n",
    "    config = ConfigurationManager()\n",
    "    training_config = config.get_training_config()\n",
    "    training = Training(training_config)\n",
    "    training.get_model()\n",
    "    training.train()\n",
    "except Exception as e:\n",
    "    raise e"
   ]
  },
  {
   "cell_type": "code",
   "execution_count": null,
   "metadata": {},
   "outputs": [],
   "source": []
  }
 ],
 "metadata": {
  "kernelspec": {
   "display_name": ".venv",
   "language": "python",
   "name": "python3"
  },
  "language_info": {
   "codemirror_mode": {
    "name": "ipython",
    "version": 3
   },
   "file_extension": ".py",
   "mimetype": "text/x-python",
   "name": "python",
   "nbconvert_exporter": "python",
   "pygments_lexer": "ipython3",
   "version": "3.9.6"
  }
 },
 "nbformat": 4,
 "nbformat_minor": 2
}
